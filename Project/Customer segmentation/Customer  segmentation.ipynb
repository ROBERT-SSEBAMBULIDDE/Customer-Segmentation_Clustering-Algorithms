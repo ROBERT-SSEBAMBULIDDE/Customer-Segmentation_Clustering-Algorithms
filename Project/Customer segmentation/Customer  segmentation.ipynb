{
  "cells": [
    {
      "cell_type": "markdown",
      "source": "#  Connecting to Data Source in BigQuery & Reading Dataset",
      "metadata": {
        "is_collapsed": false,
        "formattedRanges": [],
        "cell_id": "bff8524cc9a04386b342ddbc59b14b8e",
        "deepnote_cell_type": "text-cell-h1"
      },
      "block_group": "5216dd2b38a440e6b4453e1d5a3c84a8"
    },
    {
      "cell_type": "code",
      "source": "from google.cloud import bigquery\nfrom google.oauth2 import service_account\n#put your service account key file in 'your_service_account.json' with your actual service account key file path.\ncredentials = service_account.Credentials.from_service_account_file('/work/datapro-405709-a2628eb0c95a.json')\nclient = bigquery.Client(credentials=credentials)",
      "metadata": {
        "source_hash": "2f54b08e",
        "execution_start": 1701283852018,
        "execution_millis": 925,
        "deepnote_to_be_reexecuted": false,
        "cell_id": "d778cc6236c04a34a4849a1f5a35af72",
        "deepnote_cell_type": "code"
      },
      "outputs": [],
      "execution_count": 1,
      "block_group": "b4c64b074f8f4bb688111be1e532c594"
    },
    {
      "cell_type": "code",
      "source": "#reading the dataset\nquery = client.query('''select * from `datapro-405709.Projects.Customer Segmentation`''')\nquery.result()\n#saving the dataset\ndf = query.to_dataframe()",
      "metadata": {
        "source_hash": "f8dffee4",
        "execution_start": 1701284304801,
        "execution_millis": 3239,
        "deepnote_to_be_reexecuted": false,
        "cell_id": "1c975fc66a6b4f7b8110bde02479c723",
        "deepnote_cell_type": "code"
      },
      "outputs": [],
      "execution_count": 12,
      "block_group": "1b6f2e37627041068f8606ccb22cb64b"
    },
    {
      "cell_type": "markdown",
      "source": "# Exploratory Data Analysis (EDA)",
      "metadata": {
        "formattedRanges": [],
        "cell_id": "f69de1a7639e4c07acfb6628a1641599",
        "deepnote_cell_type": "text-cell-h1"
      },
      "block_group": "50bbb08cba524821adbea4552557e13d"
    },
    {
      "cell_type": "code",
      "source": "#shape of the dataset\ndf.shape",
      "metadata": {
        "source_hash": "355eb225",
        "execution_start": 1701284323007,
        "execution_millis": 17,
        "deepnote_to_be_reexecuted": false,
        "cell_id": "0e2a6660ffde4ab9ad731a81218d1680",
        "deepnote_cell_type": "code"
      },
      "outputs": [
        {
          "output_type": "execute_result",
          "execution_count": 13,
          "data": {
            "text/plain": "(541909, 8)"
          },
          "metadata": {}
        }
      ],
      "execution_count": 13,
      "block_group": "09be71325f6c4b82a2fdbcd4257bec5d"
    },
    {
      "cell_type": "code",
      "source": "#check columns\ndf.columns",
      "metadata": {
        "source_hash": "27634752",
        "execution_start": 1701284351573,
        "execution_millis": 10,
        "deepnote_to_be_reexecuted": false,
        "cell_id": "9e96eeb418dd45d893c6857e4e8e7842",
        "deepnote_cell_type": "code"
      },
      "outputs": [
        {
          "output_type": "execute_result",
          "execution_count": 14,
          "data": {
            "text/plain": "Index(['InvoiceNo', 'StockCode', 'Description', 'Quantity', 'InvoiceDate',\n       'UnitPrice', 'CustomerID', 'Country'],\n      dtype='object')"
          },
          "metadata": {}
        }
      ],
      "execution_count": 14,
      "block_group": "a92992350fcb433cb2599b1f1b94eee4"
    },
    {
      "cell_type": "code",
      "source": "#check data types\ndf.dtypes",
      "metadata": {
        "source_hash": "c4662ea5",
        "execution_start": 1701284374069,
        "execution_millis": 41,
        "deepnote_to_be_reexecuted": false,
        "cell_id": "c4e19db190224495b595f105117fa689",
        "deepnote_cell_type": "code"
      },
      "outputs": [
        {
          "output_type": "execute_result",
          "execution_count": 15,
          "data": {
            "text/plain": "InvoiceNo                   object\nStockCode                   object\nDescription                 object\nQuantity                     Int64\nInvoiceDate    datetime64[ns, UTC]\nUnitPrice                  float64\nCustomerID                   Int64\nCountry                     object\ndtype: object"
          },
          "metadata": {}
        }
      ],
      "execution_count": 15,
      "block_group": "3ad723a8d96d428d8b33d4afb342baea"
    },
    {
      "cell_type": "code",
      "source": "#information about the dataset\ndf.info()",
      "metadata": {
        "source_hash": "de623b9b",
        "execution_start": 1701284436361,
        "execution_millis": 128,
        "deepnote_to_be_reexecuted": false,
        "cell_id": "96a15b61cfb243469383a86577b7508d",
        "deepnote_cell_type": "code"
      },
      "outputs": [
        {
          "name": "stdout",
          "text": "<class 'pandas.core.frame.DataFrame'>\nRangeIndex: 541909 entries, 0 to 541908\nData columns (total 8 columns):\n #   Column       Non-Null Count   Dtype              \n---  ------       --------------   -----              \n 0   InvoiceNo    541909 non-null  object             \n 1   StockCode    541909 non-null  object             \n 2   Description  540455 non-null  object             \n 3   Quantity     541909 non-null  Int64              \n 4   InvoiceDate  541909 non-null  datetime64[ns, UTC]\n 5   UnitPrice    541909 non-null  float64            \n 6   CustomerID   406829 non-null  Int64              \n 7   Country      541909 non-null  object             \ndtypes: Int64(2), datetime64[ns, UTC](1), float64(1), object(4)\nmemory usage: 34.1+ MB\n",
          "output_type": "stream"
        }
      ],
      "execution_count": 16,
      "block_group": "fc94bdc6561e4625a3984d5819616b5f"
    },
    {
      "cell_type": "code",
      "source": "#check missing values\ndf.isna().sum()",
      "metadata": {
        "source_hash": "2b090bce",
        "execution_start": 1701284468917,
        "execution_millis": 14,
        "deepnote_to_be_reexecuted": false,
        "cell_id": "d3de2791cd69422e8005effdea3c4560",
        "deepnote_cell_type": "code"
      },
      "outputs": [
        {
          "output_type": "execute_result",
          "execution_count": 17,
          "data": {
            "text/plain": "InvoiceNo           0\nStockCode           0\nDescription      1454\nQuantity            0\nInvoiceDate         0\nUnitPrice           0\nCustomerID     135080\nCountry             0\ndtype: int64"
          },
          "metadata": {}
        }
      ],
      "execution_count": 17,
      "block_group": "914d0af2dbe1406fae6c523158a99b22"
    },
    {
      "cell_type": "code",
      "source": "#describe the dataset\ndf.describe()",
      "metadata": {
        "source_hash": "914f3363",
        "execution_start": 1701284514277,
        "execution_millis": 403,
        "deepnote_to_be_reexecuted": false,
        "cell_id": "89f363bd393744d3830025738ed6a6bf",
        "deepnote_cell_type": "code"
      },
      "outputs": [
        {
          "output_type": "execute_result",
          "execution_count": 18,
          "data": {
            "application/vnd.deepnote.dataframe.v3+json": {
              "column_count": 3,
              "row_count": 8,
              "columns": [
                {
                  "name": "Quantity",
                  "dtype": "float64",
                  "stats": {
                    "unique_count": 8,
                    "nan_count": 0,
                    "min": "-80995.0",
                    "max": "541909.0",
                    "histogram": [
                      {
                        "bin_start": -80995,
                        "bin_end": -18704.6,
                        "count": 1
                      },
                      {
                        "bin_start": -18704.6,
                        "bin_end": 43585.8,
                        "count": 5
                      },
                      {
                        "bin_start": 43585.8,
                        "bin_end": 105876.20000000001,
                        "count": 1
                      },
                      {
                        "bin_start": 105876.20000000001,
                        "bin_end": 168166.6,
                        "count": 0
                      },
                      {
                        "bin_start": 168166.6,
                        "bin_end": 230457,
                        "count": 0
                      },
                      {
                        "bin_start": 230457,
                        "bin_end": 292747.4,
                        "count": 0
                      },
                      {
                        "bin_start": 292747.4,
                        "bin_end": 355037.8,
                        "count": 0
                      },
                      {
                        "bin_start": 355037.8,
                        "bin_end": 417328.2,
                        "count": 0
                      },
                      {
                        "bin_start": 417328.2,
                        "bin_end": 479618.6,
                        "count": 0
                      },
                      {
                        "bin_start": 479618.6,
                        "bin_end": 541909,
                        "count": 1
                      }
                    ]
                  }
                },
                {
                  "name": "UnitPrice",
                  "dtype": "float64",
                  "stats": {
                    "unique_count": 8,
                    "nan_count": 0,
                    "min": "-11062.06",
                    "max": "541909.0",
                    "histogram": [
                      {
                        "bin_start": -11062.06,
                        "bin_end": 44235.04600000001,
                        "count": 7
                      },
                      {
                        "bin_start": 44235.04600000001,
                        "bin_end": 99532.15200000002,
                        "count": 0
                      },
                      {
                        "bin_start": 99532.15200000002,
                        "bin_end": 154829.25800000003,
                        "count": 0
                      },
                      {
                        "bin_start": 154829.25800000003,
                        "bin_end": 210126.36400000003,
                        "count": 0
                      },
                      {
                        "bin_start": 210126.36400000003,
                        "bin_end": 265423.47000000003,
                        "count": 0
                      },
                      {
                        "bin_start": 265423.47000000003,
                        "bin_end": 320720.57600000006,
                        "count": 0
                      },
                      {
                        "bin_start": 320720.57600000006,
                        "bin_end": 376017.68200000003,
                        "count": 0
                      },
                      {
                        "bin_start": 376017.68200000003,
                        "bin_end": 431314.78800000006,
                        "count": 0
                      },
                      {
                        "bin_start": 431314.78800000006,
                        "bin_end": 486611.8940000001,
                        "count": 0
                      },
                      {
                        "bin_start": 486611.8940000001,
                        "bin_end": 541909,
                        "count": 1
                      }
                    ]
                  }
                },
                {
                  "name": "CustomerID",
                  "dtype": "float64",
                  "stats": {
                    "unique_count": 8,
                    "nan_count": 0,
                    "min": "1713.6003033215975",
                    "max": "406829.0",
                    "histogram": [
                      {
                        "bin_start": 1713.6003033215975,
                        "bin_end": 42225.14027298943,
                        "count": 7
                      },
                      {
                        "bin_start": 42225.14027298943,
                        "bin_end": 82736.68024265727,
                        "count": 0
                      },
                      {
                        "bin_start": 82736.68024265727,
                        "bin_end": 123248.2202123251,
                        "count": 0
                      },
                      {
                        "bin_start": 123248.2202123251,
                        "bin_end": 163759.76018199296,
                        "count": 0
                      },
                      {
                        "bin_start": 163759.76018199296,
                        "bin_end": 204271.3001516608,
                        "count": 0
                      },
                      {
                        "bin_start": 204271.3001516608,
                        "bin_end": 244782.84012132863,
                        "count": 0
                      },
                      {
                        "bin_start": 244782.84012132863,
                        "bin_end": 285294.38009099645,
                        "count": 0
                      },
                      {
                        "bin_start": 285294.38009099645,
                        "bin_end": 325805.9200606643,
                        "count": 0
                      },
                      {
                        "bin_start": 325805.9200606643,
                        "bin_end": 366317.46003033215,
                        "count": 0
                      },
                      {
                        "bin_start": 366317.46003033215,
                        "bin_end": 406829,
                        "count": 1
                      }
                    ]
                  }
                },
                {
                  "name": "_deepnote_index_column",
                  "dtype": "object"
                }
              ],
              "rows": [
                {
                  "Quantity": 541909,
                  "UnitPrice": 541909,
                  "CustomerID": 406829,
                  "_deepnote_index_column": "count"
                },
                {
                  "Quantity": 9.55224954743324,
                  "UnitPrice": 4.611113626088513,
                  "CustomerID": 15287.690570239585,
                  "_deepnote_index_column": "mean"
                },
                {
                  "Quantity": 218.08115785023386,
                  "UnitPrice": 96.7598530611794,
                  "CustomerID": 1713.6003033215975,
                  "_deepnote_index_column": "std"
                },
                {
                  "Quantity": -80995,
                  "UnitPrice": -11062.06,
                  "CustomerID": 12346,
                  "_deepnote_index_column": "min"
                },
                {
                  "Quantity": 1,
                  "UnitPrice": 1.25,
                  "CustomerID": 13953,
                  "_deepnote_index_column": "25%"
                },
                {
                  "Quantity": 3,
                  "UnitPrice": 2.08,
                  "CustomerID": 15152,
                  "_deepnote_index_column": "50%"
                },
                {
                  "Quantity": 10,
                  "UnitPrice": 4.13,
                  "CustomerID": 16791,
                  "_deepnote_index_column": "75%"
                },
                {
                  "Quantity": 80995,
                  "UnitPrice": 38970,
                  "CustomerID": 18287,
                  "_deepnote_index_column": "max"
                }
              ]
            },
            "text/plain": "            Quantity      UnitPrice     CustomerID\ncount  541909.000000  541909.000000  406829.000000\nmean        9.552250       4.611114   15287.690570\nstd       218.081158      96.759853    1713.600303\nmin    -80995.000000  -11062.060000   12346.000000\n25%         1.000000       1.250000   13953.000000\n50%         3.000000       2.080000   15152.000000\n75%        10.000000       4.130000   16791.000000\nmax     80995.000000   38970.000000   18287.000000",
            "text/html": "<div>\n<style scoped>\n    .dataframe tbody tr th:only-of-type {\n        vertical-align: middle;\n    }\n\n    .dataframe tbody tr th {\n        vertical-align: top;\n    }\n\n    .dataframe thead th {\n        text-align: right;\n    }\n</style>\n<table border=\"1\" class=\"dataframe\">\n  <thead>\n    <tr style=\"text-align: right;\">\n      <th></th>\n      <th>Quantity</th>\n      <th>UnitPrice</th>\n      <th>CustomerID</th>\n    </tr>\n  </thead>\n  <tbody>\n    <tr>\n      <th>count</th>\n      <td>541909.000000</td>\n      <td>541909.000000</td>\n      <td>406829.000000</td>\n    </tr>\n    <tr>\n      <th>mean</th>\n      <td>9.552250</td>\n      <td>4.611114</td>\n      <td>15287.690570</td>\n    </tr>\n    <tr>\n      <th>std</th>\n      <td>218.081158</td>\n      <td>96.759853</td>\n      <td>1713.600303</td>\n    </tr>\n    <tr>\n      <th>min</th>\n      <td>-80995.000000</td>\n      <td>-11062.060000</td>\n      <td>12346.000000</td>\n    </tr>\n    <tr>\n      <th>25%</th>\n      <td>1.000000</td>\n      <td>1.250000</td>\n      <td>13953.000000</td>\n    </tr>\n    <tr>\n      <th>50%</th>\n      <td>3.000000</td>\n      <td>2.080000</td>\n      <td>15152.000000</td>\n    </tr>\n    <tr>\n      <th>75%</th>\n      <td>10.000000</td>\n      <td>4.130000</td>\n      <td>16791.000000</td>\n    </tr>\n    <tr>\n      <th>max</th>\n      <td>80995.000000</td>\n      <td>38970.000000</td>\n      <td>18287.000000</td>\n    </tr>\n  </tbody>\n</table>\n</div>"
          },
          "metadata": {}
        }
      ],
      "execution_count": 18,
      "block_group": "fd6f813562e74026bf1ced9a6bd40963"
    },
    {
      "cell_type": "code",
      "source": "#check for duplicates\ndf.duplicated().sum()",
      "metadata": {
        "source_hash": "9d404963",
        "execution_start": 1701285334231,
        "execution_millis": 225,
        "deepnote_to_be_reexecuted": false,
        "cell_id": "f054934ed7f1463d9b895dfbd35a1933",
        "deepnote_cell_type": "code"
      },
      "outputs": [
        {
          "output_type": "execute_result",
          "execution_count": 22,
          "data": {
            "text/plain": "5268"
          },
          "metadata": {}
        }
      ],
      "execution_count": 22,
      "block_group": "e9ba225ad51a4b9f83243b9f6fcdd83e"
    },
    {
      "cell_type": "code",
      "source": "#rows with duplicate values\ndf[df.duplicated()]",
      "metadata": {
        "source_hash": "f5736226",
        "execution_start": 1701285049432,
        "execution_millis": 296,
        "deepnote_to_be_reexecuted": false,
        "cell_id": "9425eefc389a450f86eedc6ea327f16a",
        "deepnote_cell_type": "code"
      },
      "outputs": [
        {
          "output_type": "execute_result",
          "execution_count": 20,
          "data": {
            "application/vnd.deepnote.dataframe.v3+json": {
              "column_count": 8,
              "row_count": 5268,
              "columns": [
                {
                  "name": "InvoiceNo",
                  "dtype": "object",
                  "stats": {
                    "unique_count": 1933,
                    "nan_count": 0,
                    "categories": [
                      {
                        "name": "555524",
                        "count": 34
                      },
                      {
                        "name": "547651",
                        "count": 31
                      },
                      {
                        "name": "1931 others",
                        "count": 5203
                      }
                    ]
                  }
                },
                {
                  "name": "StockCode",
                  "dtype": "object",
                  "stats": {
                    "unique_count": 1706,
                    "nan_count": 0,
                    "categories": [
                      {
                        "name": "21034",
                        "count": 55
                      },
                      {
                        "name": "20727",
                        "count": 27
                      },
                      {
                        "name": "1704 others",
                        "count": 5186
                      }
                    ]
                  }
                },
                {
                  "name": "Description",
                  "dtype": "object",
                  "stats": {
                    "unique_count": 1732,
                    "nan_count": 0,
                    "categories": [
                      {
                        "name": "REX CASH+CARRY JUMBO SHOPPER",
                        "count": 55
                      },
                      {
                        "name": "LUNCH BAG  BLACK SKULL.",
                        "count": 27
                      },
                      {
                        "name": "1730 others",
                        "count": 5186
                      }
                    ]
                  }
                },
                {
                  "name": "Quantity",
                  "dtype": "Int64",
                  "stats": {
                    "unique_count": 35,
                    "nan_count": 0,
                    "categories": [
                      {
                        "name": "1",
                        "count": 3732
                      },
                      {
                        "name": "2",
                        "count": 584
                      },
                      {
                        "name": "33 others",
                        "count": 952
                      }
                    ]
                  }
                },
                {
                  "name": "InvoiceDate",
                  "dtype": "datetime64[ns, UTC]",
                  "stats": {
                    "unique_count": 1914,
                    "nan_count": 0,
                    "min": "2010-12-01 11:45:00+00:00",
                    "max": "2011-12-09 11:34:00+00:00",
                    "histogram": [
                      {
                        "bin_start": 1291203900000000000,
                        "bin_end": 1294426554000000000,
                        "count": 514
                      },
                      {
                        "bin_start": 1294426554000000000,
                        "bin_end": 1297649208000000000,
                        "count": 321
                      },
                      {
                        "bin_start": 1297649208000000000,
                        "bin_end": 1300871862000000000,
                        "count": 321
                      },
                      {
                        "bin_start": 1300871862000000000,
                        "bin_end": 1304094516000000000,
                        "count": 343
                      },
                      {
                        "bin_start": 1304094516000000000,
                        "bin_end": 1307317170000000000,
                        "count": 309
                      },
                      {
                        "bin_start": 1307317170000000000,
                        "bin_end": 1310539824000000000,
                        "count": 292
                      },
                      {
                        "bin_start": 1310539824000000000,
                        "bin_end": 1313762478000000000,
                        "count": 271
                      },
                      {
                        "bin_start": 1313762478000000000,
                        "bin_end": 1316985132000000000,
                        "count": 424
                      },
                      {
                        "bin_start": 1316985132000000000,
                        "bin_end": 1320207786000000000,
                        "count": 845
                      },
                      {
                        "bin_start": 1320207786000000000,
                        "bin_end": 1323430440000000000,
                        "count": 1628
                      }
                    ]
                  }
                },
                {
                  "name": "UnitPrice",
                  "dtype": "float64",
                  "stats": {
                    "unique_count": 80,
                    "nan_count": 0,
                    "min": "0.0",
                    "max": "19.95",
                    "histogram": [
                      {
                        "bin_start": 0,
                        "bin_end": 1.9949999999999999,
                        "count": 3002
                      },
                      {
                        "bin_start": 1.9949999999999999,
                        "bin_end": 3.9899999999999998,
                        "count": 1437
                      },
                      {
                        "bin_start": 3.9899999999999998,
                        "bin_end": 5.984999999999999,
                        "count": 519
                      },
                      {
                        "bin_start": 5.984999999999999,
                        "bin_end": 7.9799999999999995,
                        "count": 107
                      },
                      {
                        "bin_start": 7.9799999999999995,
                        "bin_end": 9.975,
                        "count": 138
                      },
                      {
                        "bin_start": 9.975,
                        "bin_end": 11.969999999999999,
                        "count": 5
                      },
                      {
                        "bin_start": 11.969999999999999,
                        "bin_end": 13.965,
                        "count": 43
                      },
                      {
                        "bin_start": 13.965,
                        "bin_end": 15.959999999999999,
                        "count": 8
                      },
                      {
                        "bin_start": 15.959999999999999,
                        "bin_end": 17.955,
                        "count": 8
                      },
                      {
                        "bin_start": 17.955,
                        "bin_end": 19.95,
                        "count": 1
                      }
                    ]
                  }
                },
                {
                  "name": "CustomerID",
                  "dtype": "Int64",
                  "stats": {
                    "unique_count": 960,
                    "nan_count": 43,
                    "categories": [
                      {
                        "name": "12748",
                        "count": 183
                      },
                      {
                        "name": "959 others",
                        "count": 5042
                      },
                      {
                        "name": "Missing",
                        "count": 43
                      }
                    ]
                  }
                },
                {
                  "name": "Country",
                  "dtype": "object",
                  "stats": {
                    "unique_count": 14,
                    "nan_count": 0,
                    "categories": [
                      {
                        "name": "United Kingdom",
                        "count": 5178
                      },
                      {
                        "name": "France",
                        "count": 16
                      },
                      {
                        "name": "12 others",
                        "count": 74
                      }
                    ]
                  }
                },
                {
                  "name": "_deepnote_index_column",
                  "dtype": "int64"
                }
              ],
              "rows": [
                {
                  "InvoiceNo": "572344",
                  "StockCode": "M",
                  "Description": "Manual",
                  "Quantity": "48",
                  "InvoiceDate": "2011-10-24 10:43:00+00:00",
                  "UnitPrice": 1.5,
                  "CustomerID": "14607",
                  "Country": "United Kingdom",
                  "_deepnote_index_column": 1852
                },
                {
                  "InvoiceNo": "572344",
                  "StockCode": "M",
                  "Description": "Manual",
                  "Quantity": "48",
                  "InvoiceDate": "2011-10-24 10:43:00+00:00",
                  "UnitPrice": 1.5,
                  "CustomerID": "14607",
                  "Country": "United Kingdom",
                  "_deepnote_index_column": 1853
                },
                {
                  "InvoiceNo": "572344",
                  "StockCode": "M",
                  "Description": "Manual",
                  "Quantity": "48",
                  "InvoiceDate": "2011-10-24 10:43:00+00:00",
                  "UnitPrice": 1.5,
                  "CustomerID": "14607",
                  "Country": "United Kingdom",
                  "_deepnote_index_column": 1854
                },
                {
                  "InvoiceNo": "572344",
                  "StockCode": "M",
                  "Description": "Manual",
                  "Quantity": "48",
                  "InvoiceDate": "2011-10-24 10:43:00+00:00",
                  "UnitPrice": 1.5,
                  "CustomerID": "14607",
                  "Country": "United Kingdom",
                  "_deepnote_index_column": 1855
                },
                {
                  "InvoiceNo": "572344",
                  "StockCode": "M",
                  "Description": "Manual",
                  "Quantity": "48",
                  "InvoiceDate": "2011-10-24 10:43:00+00:00",
                  "UnitPrice": 1.5,
                  "CustomerID": "14607",
                  "Country": "United Kingdom",
                  "_deepnote_index_column": 1856
                },
                {
                  "InvoiceNo": "C544580",
                  "StockCode": "S",
                  "Description": "SAMPLES",
                  "Quantity": "-1",
                  "InvoiceDate": "2011-02-21 14:25:00+00:00",
                  "UnitPrice": 9.74,
                  "CustomerID": "<NA>",
                  "Country": "United Kingdom",
                  "_deepnote_index_column": 3613
                },
                {
                  "InvoiceNo": "578146",
                  "StockCode": "21888",
                  "Description": "BINGO SET",
                  "Quantity": "1",
                  "InvoiceDate": "2011-11-23 11:07:00+00:00",
                  "UnitPrice": 3.75,
                  "CustomerID": "13742",
                  "Country": "United Kingdom",
                  "_deepnote_index_column": 4280
                },
                {
                  "InvoiceNo": "577302",
                  "StockCode": "21888",
                  "Description": "BINGO SET",
                  "Quantity": "1",
                  "InvoiceDate": "2011-11-18 12:57:00+00:00",
                  "UnitPrice": 3.75,
                  "CustomerID": "17904",
                  "Country": "United Kingdom",
                  "_deepnote_index_column": 4369
                },
                {
                  "InvoiceNo": "577076",
                  "StockCode": "21026",
                  "Description": "SPACE OWL",
                  "Quantity": "1",
                  "InvoiceDate": "2011-11-17 15:08:00+00:00",
                  "UnitPrice": 1.25,
                  "CustomerID": "14362",
                  "Country": "United Kingdom",
                  "_deepnote_index_column": 4498
                },
                {
                  "InvoiceNo": "569521",
                  "StockCode": "21026",
                  "Description": "SPACE OWL",
                  "Quantity": "1",
                  "InvoiceDate": "2011-10-04 14:33:00+00:00",
                  "UnitPrice": 1.25,
                  "CustomerID": "16474",
                  "Country": "United Kingdom",
                  "_deepnote_index_column": 4506
                }
              ]
            },
            "text/plain": "       InvoiceNo StockCode                          Description  Quantity  \\\n1852      572344         M                               Manual        48   \n1853      572344         M                               Manual        48   \n1854      572344         M                               Manual        48   \n1855      572344         M                               Manual        48   \n1856      572344         M                               Manual        48   \n...          ...       ...                                  ...       ...   \n541302    563924    18097C  WHITE TALL PORCELAIN T-LIGHT HOLDER         1   \n541303    563924    18097C  WHITE TALL PORCELAIN T-LIGHT HOLDER         1   \n541306    558710    18097C  WHITE TALL PORCELAIN T-LIGHT HOLDER         1   \n541310    577296    18097C  WHITE TALL PORCELAIN T-LIGHT HOLDER         1   \n541841    574063     22577  WOODEN HEART CHRISTMAS SCANDINAVIAN         2   \n\n                     InvoiceDate  UnitPrice  CustomerID         Country  \n1852   2011-10-24 10:43:00+00:00       1.50       14607  United Kingdom  \n1853   2011-10-24 10:43:00+00:00       1.50       14607  United Kingdom  \n1854   2011-10-24 10:43:00+00:00       1.50       14607  United Kingdom  \n1855   2011-10-24 10:43:00+00:00       1.50       14607  United Kingdom  \n1856   2011-10-24 10:43:00+00:00       1.50       14607  United Kingdom  \n...                          ...        ...         ...             ...  \n541302 2011-08-21 14:32:00+00:00       2.55       15984  United Kingdom  \n541303 2011-08-21 14:32:00+00:00       2.55       15984  United Kingdom  \n541306 2011-07-01 13:04:00+00:00       2.55       15483  United Kingdom  \n541310 2011-11-18 12:47:00+00:00       2.55       17286  United Kingdom  \n541841 2011-11-02 14:31:00+00:00       0.29       13271  United Kingdom  \n\n[5268 rows x 8 columns]",
            "text/html": "<div>\n<style scoped>\n    .dataframe tbody tr th:only-of-type {\n        vertical-align: middle;\n    }\n\n    .dataframe tbody tr th {\n        vertical-align: top;\n    }\n\n    .dataframe thead th {\n        text-align: right;\n    }\n</style>\n<table border=\"1\" class=\"dataframe\">\n  <thead>\n    <tr style=\"text-align: right;\">\n      <th></th>\n      <th>InvoiceNo</th>\n      <th>StockCode</th>\n      <th>Description</th>\n      <th>Quantity</th>\n      <th>InvoiceDate</th>\n      <th>UnitPrice</th>\n      <th>CustomerID</th>\n      <th>Country</th>\n    </tr>\n  </thead>\n  <tbody>\n    <tr>\n      <th>1852</th>\n      <td>572344</td>\n      <td>M</td>\n      <td>Manual</td>\n      <td>48</td>\n      <td>2011-10-24 10:43:00+00:00</td>\n      <td>1.50</td>\n      <td>14607</td>\n      <td>United Kingdom</td>\n    </tr>\n    <tr>\n      <th>1853</th>\n      <td>572344</td>\n      <td>M</td>\n      <td>Manual</td>\n      <td>48</td>\n      <td>2011-10-24 10:43:00+00:00</td>\n      <td>1.50</td>\n      <td>14607</td>\n      <td>United Kingdom</td>\n    </tr>\n    <tr>\n      <th>1854</th>\n      <td>572344</td>\n      <td>M</td>\n      <td>Manual</td>\n      <td>48</td>\n      <td>2011-10-24 10:43:00+00:00</td>\n      <td>1.50</td>\n      <td>14607</td>\n      <td>United Kingdom</td>\n    </tr>\n    <tr>\n      <th>1855</th>\n      <td>572344</td>\n      <td>M</td>\n      <td>Manual</td>\n      <td>48</td>\n      <td>2011-10-24 10:43:00+00:00</td>\n      <td>1.50</td>\n      <td>14607</td>\n      <td>United Kingdom</td>\n    </tr>\n    <tr>\n      <th>1856</th>\n      <td>572344</td>\n      <td>M</td>\n      <td>Manual</td>\n      <td>48</td>\n      <td>2011-10-24 10:43:00+00:00</td>\n      <td>1.50</td>\n      <td>14607</td>\n      <td>United Kingdom</td>\n    </tr>\n    <tr>\n      <th>...</th>\n      <td>...</td>\n      <td>...</td>\n      <td>...</td>\n      <td>...</td>\n      <td>...</td>\n      <td>...</td>\n      <td>...</td>\n      <td>...</td>\n    </tr>\n    <tr>\n      <th>541302</th>\n      <td>563924</td>\n      <td>18097C</td>\n      <td>WHITE TALL PORCELAIN T-LIGHT HOLDER</td>\n      <td>1</td>\n      <td>2011-08-21 14:32:00+00:00</td>\n      <td>2.55</td>\n      <td>15984</td>\n      <td>United Kingdom</td>\n    </tr>\n    <tr>\n      <th>541303</th>\n      <td>563924</td>\n      <td>18097C</td>\n      <td>WHITE TALL PORCELAIN T-LIGHT HOLDER</td>\n      <td>1</td>\n      <td>2011-08-21 14:32:00+00:00</td>\n      <td>2.55</td>\n      <td>15984</td>\n      <td>United Kingdom</td>\n    </tr>\n    <tr>\n      <th>541306</th>\n      <td>558710</td>\n      <td>18097C</td>\n      <td>WHITE TALL PORCELAIN T-LIGHT HOLDER</td>\n      <td>1</td>\n      <td>2011-07-01 13:04:00+00:00</td>\n      <td>2.55</td>\n      <td>15483</td>\n      <td>United Kingdom</td>\n    </tr>\n    <tr>\n      <th>541310</th>\n      <td>577296</td>\n      <td>18097C</td>\n      <td>WHITE TALL PORCELAIN T-LIGHT HOLDER</td>\n      <td>1</td>\n      <td>2011-11-18 12:47:00+00:00</td>\n      <td>2.55</td>\n      <td>17286</td>\n      <td>United Kingdom</td>\n    </tr>\n    <tr>\n      <th>541841</th>\n      <td>574063</td>\n      <td>22577</td>\n      <td>WOODEN HEART CHRISTMAS SCANDINAVIAN</td>\n      <td>2</td>\n      <td>2011-11-02 14:31:00+00:00</td>\n      <td>0.29</td>\n      <td>13271</td>\n      <td>United Kingdom</td>\n    </tr>\n  </tbody>\n</table>\n<p>5268 rows × 8 columns</p>\n</div>"
          },
          "metadata": {}
        }
      ],
      "execution_count": 20,
      "block_group": "c0a6f2a3052d433cbd7285abef6e99e8"
    },
    {
      "cell_type": "code",
      "source": "",
      "metadata": {
        "cell_id": "89f3e08c9e1d45e49f6e144f058d2673",
        "deepnote_cell_type": "code"
      },
      "outputs": [],
      "execution_count": null,
      "block_group": "80484f6355274d388eea5bf7c9f4fe20"
    },
    {
      "cell_type": "markdown",
      "source": "<a style='text-decoration:none;line-height:16px;display:flex;color:#5B5B62;padding:10px;justify-content:end;' href='https://deepnote.com?utm_source=created-in-deepnote-cell&projectId=cc7b82d2-507f-4fc5-a569-84ed6f2fa5e5' target=\"_blank\">\n<img alt='Created in deepnote.com' style='display:inline;max-height:16px;margin:0px;margin-right:7.5px;' src='data:image/svg+xml;base64,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' > </img>\nCreated in <span style='font-weight:600;margin-left:4px;'>Deepnote</span></a>",
      "metadata": {
        "created_in_deepnote_cell": true,
        "deepnote_cell_type": "markdown"
      }
    }
  ],
  "nbformat": 4,
  "nbformat_minor": 0,
  "metadata": {
    "deepnote": {},
    "orig_nbformat": 2,
    "deepnote_full_width": true,
    "deepnote_notebook_id": "3527a81619d840719b0447658cd31c5b",
    "deepnote_execution_queue": []
  }
}